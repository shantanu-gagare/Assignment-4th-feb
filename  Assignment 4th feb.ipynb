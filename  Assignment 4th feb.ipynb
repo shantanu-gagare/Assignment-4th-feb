{
 "cells": [
  {
   "cell_type": "markdown",
   "id": "79312734",
   "metadata": {},
   "source": [
    "#Q. 3 "
   ]
  },
  {
   "cell_type": "code",
   "execution_count": 5,
   "id": "f8e9211d",
   "metadata": {},
   "outputs": [
    {
     "data": {
      "text/plain": [
       "('1', '2', '3', '4', '5', '6', '7', '8', '9', '10')"
      ]
     },
     "execution_count": 5,
     "metadata": {},
     "output_type": "execute_result"
    }
   ],
   "source": [
    "list1 = [1, 2, 3, 4, 5, 6, 7, 8, 9, 10]\n",
    "tuple(map(lambda x : str(x), list1))"
   ]
  },
  {
   "cell_type": "markdown",
   "id": "aa400d95",
   "metadata": {},
   "source": [
    "Q2. \n"
   ]
  },
  {
   "cell_type": "code",
   "execution_count": 11,
   "id": "1e8600b6",
   "metadata": {},
   "outputs": [
    {
     "data": {
      "text/plain": [
       "[1, 4, 9, 16, 25, 36, 49, 64, 81, 100]"
      ]
     },
     "execution_count": 11,
     "metadata": {},
     "output_type": "execute_result"
    }
   ],
   "source": [
    "list3 = [1, 2, 3, 4, 5, 6, 7, 8, 9, 10]\n",
    "list(map(lambda x : x**2, list3))"
   ]
  },
  {
   "cell_type": "markdown",
   "id": "d7cc8406",
   "metadata": {},
   "source": [
    "Q4. find a product of a list containing numbers 1 to 25 "
   ]
  },
  {
   "cell_type": "code",
   "execution_count": 13,
   "id": "7125447f",
   "metadata": {},
   "outputs": [
    {
     "data": {
      "text/plain": [
       "15511210043330985984000000"
      ]
     },
     "execution_count": 13,
     "metadata": {},
     "output_type": "execute_result"
    }
   ],
   "source": [
    "from functools import reduce\n",
    "\n",
    "list4 = [1, 2, 3, 4, 5, 6, 7, 8, 9, 10, 11, 12, 13, 14, 15, 16, 17, 18, 19, 20, 21, 22, 23, 24, 25]\n",
    "reduce(lambda x, y : x*y, list4)"
   ]
  },
  {
   "cell_type": "markdown",
   "id": "1800ab4d",
   "metadata": {},
   "source": [
    "Q5. "
   ]
  },
  {
   "cell_type": "code",
   "execution_count": 14,
   "id": "1baeac67",
   "metadata": {},
   "outputs": [
    {
     "data": {
      "text/plain": [
       "[6, 60, 90, 120]"
      ]
     },
     "execution_count": 14,
     "metadata": {},
     "output_type": "execute_result"
    }
   ],
   "source": [
    "list5 = [2, 3, 6, 9, 27, 60, 90, 120, 55, 46]\n",
    "list(filter(lambda x : x%2 == 0 and x %3==0, list5))"
   ]
  },
  {
   "cell_type": "markdown",
   "id": "bee336bc",
   "metadata": {},
   "source": [
    "Q6. palindrome"
   ]
  },
  {
   "cell_type": "code",
   "execution_count": 24,
   "id": "4b26eb93",
   "metadata": {},
   "outputs": [],
   "source": [
    "def palindrom(x):\n",
    "    for i in range(len(x)):\n",
    "        if x[i] == x[-(i+1)]:\n",
    "            return x"
   ]
  },
  {
   "cell_type": "code",
   "execution_count": 25,
   "id": "0491b2d7",
   "metadata": {},
   "outputs": [
    {
     "data": {
      "text/plain": [
       "['php', 'aba', 'radar', 'level']"
      ]
     },
     "execution_count": 25,
     "metadata": {},
     "output_type": "execute_result"
    }
   ],
   "source": [
    "list6 = ['python', 'php', 'aba', 'radar', 'level']\n",
    "list(filter(palindrom, list6 ))"
   ]
  },
  {
   "cell_type": "markdown",
   "id": "3a5cd67e",
   "metadata": {},
   "source": [
    "Q1. "
   ]
  },
  {
   "cell_type": "code",
   "execution_count": 27,
   "id": "94730a57",
   "metadata": {},
   "outputs": [
    {
     "name": "stdout",
     "output_type": "stream",
     "text": [
      "[('Virat Kohli', 24936), ('Jack Kallis', 25534), ('Ricky Ponting', 27483), ('Sachin Tendulkar', 34357)]\n"
     ]
    }
   ],
   "source": [
    "list7 = [('Sachin Tendulkar', 34357), ('Ricky Ponting', 27483), ('Jack Kallis', 25534), ('Virat Kohli', 24936)]\n",
    "sorted_list = sorted(list7, key = lambda x: x[1])\n",
    "print(sorted_list)"
   ]
  },
  {
   "cell_type": "code",
   "execution_count": null,
   "id": "86cefb7f",
   "metadata": {},
   "outputs": [],
   "source": []
  }
 ],
 "metadata": {
  "kernelspec": {
   "display_name": "Python 3 (ipykernel)",
   "language": "python",
   "name": "python3"
  },
  "language_info": {
   "codemirror_mode": {
    "name": "ipython",
    "version": 3
   },
   "file_extension": ".py",
   "mimetype": "text/x-python",
   "name": "python",
   "nbconvert_exporter": "python",
   "pygments_lexer": "ipython3",
   "version": "3.9.13"
  }
 },
 "nbformat": 4,
 "nbformat_minor": 5
}
